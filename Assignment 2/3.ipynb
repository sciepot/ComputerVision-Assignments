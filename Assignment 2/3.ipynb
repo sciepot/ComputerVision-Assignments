{
 "cells": [
  {
   "cell_type": "code",
   "execution_count": null,
   "metadata": {},
   "outputs": [],
   "source": [
    "!python main.py"
   ]
  },
  {
   "cell_type": "code",
   "execution_count": 5,
   "metadata": {},
   "outputs": [
    {
     "name": "stdout",
     "output_type": "stream",
     "text": [
      "Finish build model.\n",
      "Testing...\n",
      "The average error for 500 images is 21.46\n"
     ]
    },
    {
     "name": "stderr",
     "output_type": "stream",
     "text": [
      "\n",
      "  0%|          | 0/500 [00:00<?, ?it/s]\n",
      "  6%|▌         | 30/500 [00:00<00:01, 296.47it/s]\n",
      " 14%|█▍        | 72/500 [00:00<00:01, 366.78it/s]\n",
      " 24%|██▍       | 121/500 [00:00<00:00, 417.05it/s]\n",
      " 35%|███▌      | 175/500 [00:00<00:00, 465.03it/s]\n",
      " 46%|████▌     | 230/500 [00:00<00:00, 493.67it/s]\n",
      " 57%|█████▋    | 284/500 [00:00<00:00, 507.59it/s]\n",
      " 68%|██████▊   | 339/500 [00:00<00:00, 519.68it/s]\n",
      " 80%|███████▉  | 398/500 [00:00<00:00, 540.12it/s]\n",
      " 91%|█████████ | 453/500 [00:00<00:00, 536.60it/s]\n",
      "100%|██████████| 500/500 [00:01<00:00, 499.44it/s]\n"
     ]
    }
   ],
   "source": [
    "!python main.py\n"
   ]
  }
 ],
 "metadata": {
  "kernelspec": {
   "display_name": "Python 3.8.8 ('base')",
   "language": "python",
   "name": "python3"
  },
  "language_info": {
   "codemirror_mode": {
    "name": "ipython",
    "version": 3
   },
   "file_extension": ".py",
   "mimetype": "text/x-python",
   "name": "python",
   "nbconvert_exporter": "python",
   "pygments_lexer": "ipython3",
   "version": "3.8.8"
  },
  "orig_nbformat": 4,
  "vscode": {
   "interpreter": {
    "hash": "f8c3ac8c91d7b187d8ca32b212bfbc0929419c1b5d612f0a9458f20d4c913496"
   }
  }
 },
 "nbformat": 4,
 "nbformat_minor": 2
}
