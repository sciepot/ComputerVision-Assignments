{
 "cells": [
  {
   "cell_type": "code",
   "execution_count": 1,
   "metadata": {},
   "outputs": [],
   "source": [
    "import torch\n",
    "import torch.nn as nn\n",
    "import numpy as np"
   ]
  },
  {
   "cell_type": "code",
   "execution_count": 4,
   "metadata": {},
   "outputs": [],
   "source": [
    "class DoorLock(nn.Module):\n",
    "    def __init__(self):\n",
    "        super().__init__()\n",
    "        self.f = nn.Sequential(nn.Linear(100, 1), nn.Sigmoid())\n",
    "        for p in self.f.parameters():\n",
    "            p.requires_grad = False\n",
    "    \n",
    "    def forward(self, x):\n",
    "        y = self.f(x)\n",
    "        if(y > 0.9):\n",
    "            print('Opened!')\n",
    "        return y"
   ]
  },
  {
   "cell_type": "code",
   "execution_count": 5,
   "metadata": {},
   "outputs": [],
   "source": [
    "class DoorHack(nn.Module):\n",
    "    def __init__(self, locker):\n",
    "        super().__init__()\n",
    "        self.g = nn.Sequential(nn.Linear(100, 100),)\n",
    "        self.locker = locker\n",
    "    \n",
    "    def forward(self, z):\n",
    "        y = self.locker(self.g(z))\n",
    "        return y"
   ]
  },
  {
   "cell_type": "code",
   "execution_count": 6,
   "metadata": {},
   "outputs": [],
   "source": [
    "num_trials = 50\n",
    "locker = DoorLock()\n",
    "hacker = DoorHack(locker)"
   ]
  },
  {
   "cell_type": "code",
   "execution_count": 7,
   "metadata": {},
   "outputs": [
    {
     "name": "stdout",
     "output_type": "stream",
     "text": [
      "Opened!\n",
      "Opened!\n",
      "Opened!\n",
      "Opened!\n",
      "Opened!\n",
      "Opened!\n",
      "Opened!\n",
      "Opened!\n",
      "Opened!\n",
      "Opened!\n",
      "Opened!\n",
      "Opened!\n",
      "Opened!\n",
      "Opened!\n",
      "Opened!\n",
      "Opened!\n",
      "Opened!\n",
      "Opened!\n",
      "Opened!\n",
      "Opened!\n",
      "Opened!\n",
      "Opened!\n",
      "Opened!\n",
      "Opened!\n",
      "Opened!\n",
      "Opened!\n",
      "Opened!\n",
      "Opened!\n",
      "Opened!\n",
      "Opened!\n",
      "Opened!\n",
      "Opened!\n",
      "Opened!\n",
      "Opened!\n",
      "Opened!\n",
      "Opened!\n",
      "Opened!\n",
      "Opened!\n",
      "Opened!\n"
     ]
    }
   ],
   "source": [
    "z = torch.randn(1, 100)\n",
    "\n",
    "optimizer = torch.optim.SGD(hacker.g.parameters(), lr=0.1)\n",
    "losses = []\n",
    "\n",
    "for i in range(num_trials):\n",
    "  optimizer.zero_grad()\n",
    "  output = hacker.forward(z)\n",
    "  loss = torch.mean((output - 1)**2)\n",
    "  loss.backward()\n",
    "  optimizer.step()\n",
    "  losses.append(loss.item())\n",
    "data = [[1, 2],[3, 4]]\n",
    "x_data = torch.tensor(data)"
   ]
  }
 ],
 "metadata": {
  "kernelspec": {
   "display_name": "Python 3.10.3 64-bit",
   "language": "python",
   "name": "python3"
  },
  "language_info": {
   "codemirror_mode": {
    "name": "ipython",
    "version": 3
   },
   "file_extension": ".py",
   "mimetype": "text/x-python",
   "name": "python",
   "nbconvert_exporter": "python",
   "pygments_lexer": "ipython3",
   "version": "3.10.3"
  },
  "orig_nbformat": 4,
  "vscode": {
   "interpreter": {
    "hash": "dedbd1205eba0282b31e8fceacbbfffe3d888b078d22e9247c93bbadb604f37b"
   }
  }
 },
 "nbformat": 4,
 "nbformat_minor": 2
}
