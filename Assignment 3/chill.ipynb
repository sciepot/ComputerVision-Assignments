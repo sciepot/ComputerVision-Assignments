{
 "cells": [
  {
   "cell_type": "code",
   "execution_count": 15,
   "metadata": {},
   "outputs": [
    {
     "name": "stdout",
     "output_type": "stream",
     "text": [
      "^C\n"
     ]
    },
    {
     "name": "stdout",
     "output_type": "stream",
     "text": [
      "load data\n",
      "Finished preprocessing the CelebA dataset...\n",
      "Training\n",
      "train\n",
      "Epoch    1/1 Batch 5/90\n",
      "Epoch    1/1 Batch 10/90\n",
      "Epoch    1/1 Batch 15/90\n",
      "Epoch    1/1 Batch 20/90\n",
      "Epoch    1/1 Batch 25/90\n",
      "Epoch    1/1 Batch 30/90\n",
      "Epoch    1/1 Batch 35/90\n",
      "Epoch    1/1 Batch 40/90\n",
      "Epoch    1/1 Batch 45/90\n",
      "Epoch    1/1 Batch 50/90\n",
      "Epoch    1/1 Batch 55/90\n",
      "Epoch    1/1 Batch 60/90\n",
      "Epoch    1/1 Batch 65/90\n",
      "Epoch    1/1 Batch 70/90\n",
      "Epoch    1/1 Batch 75/90\n",
      "Epoch    1/1 Batch 80/90\n",
      "Epoch    1/1 Batch 85/90\n",
      "Epoch    1/1 Batch 90/90\n"
     ]
    }
   ],
   "source": [
    "!python main.py"
   ]
  },
  {
   "cell_type": "code",
   "execution_count": 55,
   "metadata": {},
   "outputs": [
    {
     "name": "stdout",
     "output_type": "stream",
     "text": [
      "tensor([[[1.0000, 1.0000, 1.0000,  ..., 1.0000, 1.0000, 1.0000],\n",
      "         [1.0000, 1.0000, 1.0000,  ..., 1.0000, 1.0000, 1.0000],\n",
      "         [1.0000, 1.0000, 1.0000,  ..., 1.0000, 1.0000, 1.0000],\n",
      "         ...,\n",
      "         [0.0078, 0.0078, 0.0078,  ..., 1.0000, 1.0000, 1.0000],\n",
      "         [0.0078, 0.0078, 0.0078,  ..., 1.0000, 1.0000, 1.0000],\n",
      "         [0.0078, 0.0078, 0.0078,  ..., 1.0000, 1.0000, 1.0000]],\n",
      "\n",
      "        [[0.0000, 0.0000, 0.0000,  ..., 0.0000, 0.0000, 0.0000],\n",
      "         [0.0000, 0.0000, 0.0000,  ..., 0.0000, 0.0000, 0.0000],\n",
      "         [0.0000, 0.0000, 0.0000,  ..., 0.0000, 0.0000, 0.0000],\n",
      "         ...,\n",
      "         [0.0000, 0.0000, 0.0000,  ..., 0.0000, 0.0000, 0.0000],\n",
      "         [0.0000, 0.0000, 0.0000,  ..., 0.0000, 0.0000, 0.0000],\n",
      "         [0.0000, 0.0000, 0.0000,  ..., 0.0000, 0.0000, 0.0000]],\n",
      "\n",
      "        [[0.0000, 0.0000, 0.0000,  ..., 0.0000, 0.0000, 0.0000],\n",
      "         [0.0000, 0.0000, 0.0000,  ..., 0.0000, 0.0000, 0.0000],\n",
      "         [0.0000, 0.0000, 0.0000,  ..., 0.0000, 0.0000, 0.0000],\n",
      "         ...,\n",
      "         [0.0000, 0.0000, 0.0000,  ..., 0.0000, 0.0000, 0.0000],\n",
      "         [0.0000, 0.0000, 0.0000,  ..., 0.0000, 0.0000, 0.0000],\n",
      "         [0.0000, 0.0000, 0.0000,  ..., 0.0000, 0.0000, 0.0000]]])\n"
     ]
    }
   ],
   "source": [
    "import numpy as np\n",
    "from torchvision.utils import save_image\n",
    "import torch\n",
    "class Colorize(object):\n",
    "    def __init__(self):\n",
    "        self.cmap = np.array([(0, 0, 0), (204, 0, 0), (76, 153, 0)], dtype=np.uint8)\n",
    "\n",
    "    def __call__(self, gray_image):\n",
    "        size = gray_image.size()\n",
    "        color_image = torch.ByteTensor(3, size[1], size[2]).fill_(0)\n",
    "\n",
    "        for label in range(0, len(self.cmap)):\n",
    "            mask = (label == gray_image[0]).cpu()\n",
    "            color_image[0][mask] = self.cmap[label][0]\n",
    "            color_image[1][mask] = self.cmap[label][1]\n",
    "            color_image[2][mask] = self.cmap[label][2]\n",
    "\n",
    "        return color_image\n",
    "\n",
    "def tensor2label(label_tensor):\n",
    "    label_tensor = label_tensor.cpu().float()\n",
    "    if label_tensor.size()[0] > 1:\n",
    "        label_tensor = label_tensor.max(0, keepdim=True)[1]\n",
    "    label_tensor = Colorize()(label_tensor)\n",
    "    label_numpy = label_tensor.numpy()\n",
    "    label_numpy = label_numpy\n",
    "\n",
    "    return label_numpy\n",
    "\n",
    "import os\n",
    "import torchvision\n",
    "from PIL import Image\n",
    "transform = torchvision.transforms.Compose(\n",
    "            [torchvision.transforms.ToTensor(), torchvision.transforms.Resize((512, 512))])\n",
    "trans = torchvision.transforms.ToTensor()\n",
    "label = Image.open('data/test_label/0.png')\n",
    "lab = transform(label)\n",
    "lab[lab == 0] = 1.0\n",
    "lab = torch.cat((lab, torch.zeros(2, 512, 512)), 0)\n",
    "lab[1][lab[0] == 0.0039] = 1.0\n",
    "lab[2][lab[0] < 0.0079] = 1.0\n",
    "color  = tensor2label(lab) / 255.0\n",
    "save_image(torch.from_numpy(color), 'hey.jpg')\n",
    "print(lab)"
   ]
  },
  {
   "cell_type": "code",
   "execution_count": 35,
   "metadata": {},
   "outputs": [],
   "source": []
  }
 ],
 "metadata": {
  "kernelspec": {
   "display_name": "base",
   "language": "python",
   "name": "python3"
  },
  "language_info": {
   "codemirror_mode": {
    "name": "ipython",
    "version": 3
   },
   "file_extension": ".py",
   "mimetype": "text/x-python",
   "name": "python",
   "nbconvert_exporter": "python",
   "pygments_lexer": "ipython3",
   "version": "3.8.8"
  },
  "orig_nbformat": 4,
  "vscode": {
   "interpreter": {
    "hash": "f8c3ac8c91d7b187d8ca32b212bfbc0929419c1b5d612f0a9458f20d4c913496"
   }
  }
 },
 "nbformat": 4,
 "nbformat_minor": 2
}
